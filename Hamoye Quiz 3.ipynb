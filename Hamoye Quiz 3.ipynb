{
 "cells": [
  {
   "cell_type": "code",
   "execution_count": 37,
   "metadata": {},
   "outputs": [],
   "source": [
    "import numpy as np\n",
    "import pandas as pd\n",
    "from sklearn.metrics import recall_score, accuracy_score\n",
    "df = pd.read_csv('Data_for_UCI_named.csv')\n",
    "data = df.drop(columns = 'stab')\n"
   ]
  },
  {
   "cell_type": "code",
   "execution_count": 38,
   "metadata": {},
   "outputs": [],
   "source": [
    "from sklearn.preprocessing import LabelEncoder\n",
    "encoder = LabelEncoder()\n",
    "x = data.iloc [:, 0:-1]\n",
    "y = data.iloc [:,-1]\n"
   ]
  },
  {
   "cell_type": "code",
   "execution_count": 42,
   "metadata": {},
   "outputs": [],
   "source": [
    "from sklearn.preprocessing import LabelEncoder\n",
    "label = LabelEncoder()\n",
    "y = label.fit_transform(y)\n"
   ]
  },
  {
   "cell_type": "code",
   "execution_count": 43,
   "metadata": {},
   "outputs": [],
   "source": [
    "from sklearn.model_selection import train_test_split\n",
    "x_train, x_test, y_train, y_test = train_test_split(x, y, test_size=0.2, random_state=1)"
   ]
  },
  {
   "cell_type": "code",
   "execution_count": 44,
   "metadata": {},
   "outputs": [],
   "source": [
    "from sklearn.preprocessing import StandardScaler\n",
    "scaler = StandardScaler()\n",
    "x_train_scaled = scaler.fit_transform(x_train)\n",
    "x_test_scaled = scaler.transform (x_test)\n"
   ]
  },
  {
   "cell_type": "code",
   "execution_count": 45,
   "metadata": {},
   "outputs": [
    {
     "name": "stdout",
     "output_type": "stream",
     "text": [
      "Accuracy is: 0.929\n"
     ]
    }
   ],
   "source": [
    "# Random forest\n",
    "from sklearn.ensemble import RandomForestClassifier\n",
    "reg_forest = RandomForestClassifier(random_state=1)\n",
    "reg_forest.fit(x_train_scaled, y_train)\n",
    "y_predicted = reg_forest.predict(x_test_scaled)\n",
    "accuracy = accuracy_score(y_true=y_test, y_pred=y_predicted)\n",
    "print('Accuracy is: {}'.format(round(accuracy,4)))"
   ]
  },
  {
   "cell_type": "code",
   "execution_count": 46,
   "metadata": {},
   "outputs": [
    {
     "name": "stdout",
     "output_type": "stream",
     "text": [
      "Accuracy is: 0.928\n"
     ]
    }
   ],
   "source": [
    "from sklearn.ensemble import ExtraTreesClassifier\n",
    "reg_extratrees = ExtraTreesClassifier(random_state=1)\n",
    "reg_extratrees.fit(x_train_scaled, y_train)\n",
    "y_predicted2 = reg_extratrees.predict(x_test_scaled)\n",
    "accuracy = accuracy_score(y_true=y_test, y_pred=y_predicted2)\n",
    "print('Accuracy is: {}'.format(round(accuracy,4)))"
   ]
  },
  {
   "cell_type": "code",
   "execution_count": 47,
   "metadata": {},
   "outputs": [
    {
     "name": "stdout",
     "output_type": "stream",
     "text": [
      "Accuracy is: 0.9195\n"
     ]
    }
   ],
   "source": [
    "import xgboost as xgb\n",
    "reg_xgb = xgb.XGBClassifier( max_depth=3, learning_rate=0.1,random_state=1 )\n",
    "reg_xgb.fit(x_train_scaled, y_train)\n",
    "y_predicted3 = reg_xgb.predict(x_test_scaled)\n",
    "accuracy = accuracy_score(y_true=y_test, y_pred=y_predicted3)\n",
    "print('Accuracy is: {}'.format(round(accuracy,4)))"
   ]
  },
  {
   "cell_type": "code",
   "execution_count": 48,
   "metadata": {},
   "outputs": [
    {
     "name": "stdout",
     "output_type": "stream",
     "text": [
      "Accuracy is: 0.9195\n"
     ]
    }
   ],
   "source": [
    "import lightgbm as lgbm\n",
    "reg_lgbm = lgbm.LGBMClassifier( random_state=1 )\n",
    "reg_lgbm.fit(x_train_scaled, y_train)\n",
    "y_predicted4 = reg_lgbm.predict(x_test_scaled)\n",
    "accuracy = accuracy_score(y_true=y_test, y_pred=y_predicted3)\n",
    "print('Accuracy is: {}'.format(round(accuracy,4)))"
   ]
  },
  {
   "cell_type": "code",
   "execution_count": 13,
   "metadata": {},
   "outputs": [],
   "source": [
    "n_estimators = [50, 100, 300, 500, 1000]\n",
    "min_samples_split = [2, 3, 5, 7, 9]\n",
    "min_samples_leaf = [1, 2, 4, 6, 8]\n",
    "max_features = ['auto', 'sqrt', 'log2', None] \n",
    "\n",
    "hyperparameter_grid = {'n_estimators': n_estimators,'min_samples_leaf': min_samples_leaf,  'min_samples_split': min_samples_split, 'max_features': max_features}\n",
    "\n"
   ]
  },
  {
   "cell_type": "code",
   "execution_count": 49,
   "metadata": {},
   "outputs": [
    {
     "name": "stdout",
     "output_type": "stream",
     "text": [
      "Fitting 5 folds for each of 10 candidates, totalling 50 fits\n"
     ]
    },
    {
     "name": "stderr",
     "output_type": "stream",
     "text": [
      "[Parallel(n_jobs=-1)]: Using backend LokyBackend with 4 concurrent workers.\n",
      "[Parallel(n_jobs=-1)]: Done  42 tasks      | elapsed:   48.6s\n",
      "[Parallel(n_jobs=-1)]: Done  50 out of  50 | elapsed:   54.9s finished\n"
     ]
    },
    {
     "name": "stdout",
     "output_type": "stream",
     "text": [
      "Accuracy is: 0.644\n",
      "{'n_estimators': 1000, 'min_samples_split': 2, 'min_samples_leaf': 8, 'max_features': None}\n"
     ]
    }
   ],
   "source": [
    "# optimal parameters from randomizedsearch\n",
    "from sklearn.model_selection import RandomizedSearchCV\n",
    "random_search = RandomizedSearchCV(reg_extratrees, param_distributions=hyperparameter_grid, random_state=1, cv=5, n_iter=10, scoring = 'accuracy', n_jobs = -1, verbose = 1)\n",
    "random_search.fit(x_train_scaled, y_train)\n",
    "y_predicted5 = random_search.predict(x_test)\n",
    "# Accuracy of tuned model\n",
    "accuracy = accuracy_score(y_true=y_test, y_pred=y_predicted5)\n",
    "print('Accuracy is: {}'.format(round(accuracy,4)))\n",
    "print (random_search.best_params_)"
   ]
  },
  {
   "cell_type": "code",
   "execution_count": 50,
   "metadata": {},
   "outputs": [
    {
     "name": "stdout",
     "output_type": "stream",
     "text": [
      "most important feature index: 1\n",
      "least important feature index: 4\n"
     ]
    }
   ],
   "source": [
    "reg_extratrees_opt = ExtraTreesClassifier(n_estimators = 1000, min_samples_split =2, min_samples_leaf = 8, max_features = None, random_state=1)\n",
    "reg_extratrees_opt.fit(x_train_scaled, y_train)\n",
    "y_predicted6 = reg_extratrees_opt.predict(x_test_scaled)\n",
    "feature_importance = reg_extratrees_opt.feature_importances_\n",
    "print('most important feature index:', np.argmax(feature_importance))\n",
    "print('least important feature index:', np.argmin(feature_importance))"
   ]
  },
  {
   "cell_type": "code",
   "execution_count": null,
   "metadata": {},
   "outputs": [],
   "source": []
  }
 ],
 "metadata": {
  "kernelspec": {
   "display_name": "Python 3",
   "language": "python",
   "name": "python3"
  },
  "language_info": {
   "codemirror_mode": {
    "name": "ipython",
    "version": 3
   },
   "file_extension": ".py",
   "mimetype": "text/x-python",
   "name": "python",
   "nbconvert_exporter": "python",
   "pygments_lexer": "ipython3",
   "version": "3.7.7"
  }
 },
 "nbformat": 4,
 "nbformat_minor": 4
}
