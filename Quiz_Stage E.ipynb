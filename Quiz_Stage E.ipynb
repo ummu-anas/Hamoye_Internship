{
 "cells": [
  {
   "cell_type": "code",
   "execution_count": 1,
   "metadata": {},
   "outputs": [],
   "source": [
    "import pandas as pd\n",
    "df = pd.read_csv('household_power_consumption.txt', sep=';',  parse_dates={'date_time' : ['Date', 'Time']}, infer_datetime_format=True, low_memory=False, na_values=['nan','?'], index_col='date_time')"
   ]
  },
  {
   "cell_type": "code",
   "execution_count": 2,
   "metadata": {},
   "outputs": [
    {
     "name": "stdout",
     "output_type": "stream",
     "text": [
      "<class 'pandas.core.frame.DataFrame'>\n",
      "DatetimeIndex: 2075259 entries, 2006-12-16 17:24:00 to 2010-11-26 21:02:00\n",
      "Data columns (total 7 columns):\n",
      " #   Column                 Dtype  \n",
      "---  ------                 -----  \n",
      " 0   Global_active_power    float64\n",
      " 1   Global_reactive_power  float64\n",
      " 2   Voltage                float64\n",
      " 3   Global_intensity       float64\n",
      " 4   Sub_metering_1         float64\n",
      " 5   Sub_metering_2         float64\n",
      " 6   Sub_metering_3         float64\n",
      "dtypes: float64(7)\n",
      "memory usage: 126.7 MB\n"
     ]
    }
   ],
   "source": [
    "df.info()"
   ]
  },
  {
   "cell_type": "code",
   "execution_count": 3,
   "metadata": {},
   "outputs": [
    {
     "data": {
      "text/plain": [
       "True"
      ]
     },
     "execution_count": 3,
     "metadata": {},
     "output_type": "execute_result"
    }
   ],
   "source": [
    "df.isnull().values.any()"
   ]
  },
  {
   "cell_type": "code",
   "execution_count": 4,
   "metadata": {},
   "outputs": [],
   "source": [
    "for j in range(0,7):        \n",
    "        df.iloc[:,j]=df.iloc[:,j].fillna(df.iloc[:,j].mean())"
   ]
  },
  {
   "cell_type": "code",
   "execution_count": 5,
   "metadata": {},
   "outputs": [
    {
     "data": {
      "text/plain": [
       "Global_active_power      0\n",
       "Global_reactive_power    0\n",
       "Voltage                  0\n",
       "Global_intensity         0\n",
       "Sub_metering_1           0\n",
       "Sub_metering_2           0\n",
       "Sub_metering_3           0\n",
       "dtype: int64"
      ]
     },
     "execution_count": 5,
     "metadata": {},
     "output_type": "execute_result"
    }
   ],
   "source": [
    "df.isnull().sum()"
   ]
  },
  {
   "cell_type": "code",
   "execution_count": 6,
   "metadata": {},
   "outputs": [],
   "source": [
    "# import matplotlib.pyplot as plt\n",
    "# df.Global_active_power.resample('D').sum().plot(title='Global_active_power resampled over day for sum') \n",
    "# #df.Global_active_power.resample('D').mean().plot(title='Global_active_power resampled over day', color='red') \n",
    "# plt.tight_layout()\n",
    "# plt.show()   "
   ]
  },
  {
   "cell_type": "code",
   "execution_count": 7,
   "metadata": {},
   "outputs": [
    {
     "name": "stdout",
     "output_type": "stream",
     "text": [
      "                       Global_active_power  Global_reactive_power\n",
      "Global_active_power               1.000000               0.247017\n",
      "Global_reactive_power             0.247017               1.000000\n"
     ]
    }
   ],
   "source": [
    "print(df[['Global_active_power', 'Global_reactive_power']].corr(method='pearson'))"
   ]
  },
  {
   "cell_type": "code",
   "execution_count": 8,
   "metadata": {},
   "outputs": [
    {
     "data": {
      "text/plain": [
       "0.24701705264425566"
      ]
     },
     "execution_count": 8,
     "metadata": {},
     "output_type": "execute_result"
    }
   ],
   "source": [
    "from scipy import stats\n",
    " \n",
    "correlate = stats.pearsonr(df['Global_active_power'], df['Global_reactive_power'])[0]\n",
    "correlate"
   ]
  },
  {
   "cell_type": "code",
   "execution_count": 9,
   "metadata": {},
   "outputs": [
    {
     "data": {
      "text/plain": [
       "-0.4113630717685062"
      ]
     },
     "execution_count": 9,
     "metadata": {},
     "output_type": "execute_result"
    }
   ],
   "source": [
    "from scipy import stats\n",
    " \n",
    "correlate = stats.pearsonr(df['Voltage'], df['Global_intensity'])[0]\n",
    "correlate"
   ]
  },
  {
   "cell_type": "code",
   "execution_count": 10,
   "metadata": {},
   "outputs": [],
   "source": [
    "df_daily = df.resample('D').mean()\n",
    "df1 = df_daily[[ 'Global_active_power']]\n",
    "df1.head()\n",
    "\n",
    "x_test = df1.last('365D')\n",
    "\n",
    "x_train = df1 [:1077]"
   ]
  },
  {
   "cell_type": "code",
   "execution_count": null,
   "metadata": {},
   "outputs": [],
   "source": [
    "\n"
   ]
  },
  {
   "cell_type": "code",
   "execution_count": null,
   "metadata": {},
   "outputs": [],
   "source": []
  },
  {
   "cell_type": "code",
   "execution_count": 11,
   "metadata": {},
   "outputs": [],
   "source": [
    "x_train.reset_index(level=0, inplace=True)\n"
   ]
  },
  {
   "cell_type": "code",
   "execution_count": 12,
   "metadata": {},
   "outputs": [],
   "source": [
    "x_test.reset_index(level=0, inplace=True)"
   ]
  },
  {
   "cell_type": "code",
   "execution_count": 17,
   "metadata": {},
   "outputs": [],
   "source": [
    "x_train = x_train.rename(columns={\"date_time\": \"ds\", \"Global_active_power\": \"y\"})\n"
   ]
  },
  {
   "cell_type": "code",
   "execution_count": 14,
   "metadata": {},
   "outputs": [],
   "source": [
    "from fbprophet import Prophet\n"
   ]
  },
  {
   "cell_type": "code",
   "execution_count": 21,
   "metadata": {},
   "outputs": [],
   "source": [
    "x_train.reset_index(level=0, inplace=True)\n",
    "x_test =x_test.rename(columns={\"date_time\": \"ds\", \"Global_active_power\": \"y\"})\n",
    "\n"
   ]
  },
  {
   "cell_type": "code",
   "execution_count": 23,
   "metadata": {},
   "outputs": [
    {
     "name": "stderr",
     "output_type": "stream",
     "text": [
      "INFO:fbprophet:Disabling daily seasonality. Run prophet with daily_seasonality=True to override this.\n"
     ]
    },
    {
     "data": {
      "text/html": [
       "<div>\n",
       "<style scoped>\n",
       "    .dataframe tbody tr th:only-of-type {\n",
       "        vertical-align: middle;\n",
       "    }\n",
       "\n",
       "    .dataframe tbody tr th {\n",
       "        vertical-align: top;\n",
       "    }\n",
       "\n",
       "    .dataframe thead th {\n",
       "        text-align: right;\n",
       "    }\n",
       "</style>\n",
       "<table border=\"1\" class=\"dataframe\">\n",
       "  <thead>\n",
       "    <tr style=\"text-align: right;\">\n",
       "      <th></th>\n",
       "      <th>ds</th>\n",
       "      <th>trend</th>\n",
       "      <th>yhat_lower</th>\n",
       "      <th>yhat_upper</th>\n",
       "      <th>trend_lower</th>\n",
       "      <th>trend_upper</th>\n",
       "      <th>additive_terms</th>\n",
       "      <th>additive_terms_lower</th>\n",
       "      <th>additive_terms_upper</th>\n",
       "      <th>weekly</th>\n",
       "      <th>weekly_lower</th>\n",
       "      <th>weekly_upper</th>\n",
       "      <th>yearly</th>\n",
       "      <th>yearly_lower</th>\n",
       "      <th>yearly_upper</th>\n",
       "      <th>multiplicative_terms</th>\n",
       "      <th>multiplicative_terms_lower</th>\n",
       "      <th>multiplicative_terms_upper</th>\n",
       "      <th>yhat</th>\n",
       "    </tr>\n",
       "  </thead>\n",
       "  <tbody>\n",
       "    <tr>\n",
       "      <th>0</th>\n",
       "      <td>2009-11-27</td>\n",
       "      <td>1.096464</td>\n",
       "      <td>1.074250</td>\n",
       "      <td>1.870167</td>\n",
       "      <td>1.096464</td>\n",
       "      <td>1.096464</td>\n",
       "      <td>0.366965</td>\n",
       "      <td>0.366965</td>\n",
       "      <td>0.366965</td>\n",
       "      <td>-0.046197</td>\n",
       "      <td>-0.046197</td>\n",
       "      <td>-0.046197</td>\n",
       "      <td>0.413162</td>\n",
       "      <td>0.413162</td>\n",
       "      <td>0.413162</td>\n",
       "      <td>0.0</td>\n",
       "      <td>0.0</td>\n",
       "      <td>0.0</td>\n",
       "      <td>1.463429</td>\n",
       "    </tr>\n",
       "    <tr>\n",
       "      <th>1</th>\n",
       "      <td>2009-11-28</td>\n",
       "      <td>1.096540</td>\n",
       "      <td>1.303821</td>\n",
       "      <td>2.075647</td>\n",
       "      <td>1.096540</td>\n",
       "      <td>1.096540</td>\n",
       "      <td>0.593999</td>\n",
       "      <td>0.593999</td>\n",
       "      <td>0.593999</td>\n",
       "      <td>0.182696</td>\n",
       "      <td>0.182696</td>\n",
       "      <td>0.182696</td>\n",
       "      <td>0.411303</td>\n",
       "      <td>0.411303</td>\n",
       "      <td>0.411303</td>\n",
       "      <td>0.0</td>\n",
       "      <td>0.0</td>\n",
       "      <td>0.0</td>\n",
       "      <td>1.690539</td>\n",
       "    </tr>\n",
       "    <tr>\n",
       "      <th>2</th>\n",
       "      <td>2009-11-29</td>\n",
       "      <td>1.096617</td>\n",
       "      <td>1.276540</td>\n",
       "      <td>2.049206</td>\n",
       "      <td>1.096617</td>\n",
       "      <td>1.096617</td>\n",
       "      <td>0.564647</td>\n",
       "      <td>0.564647</td>\n",
       "      <td>0.564647</td>\n",
       "      <td>0.156443</td>\n",
       "      <td>0.156443</td>\n",
       "      <td>0.156443</td>\n",
       "      <td>0.408205</td>\n",
       "      <td>0.408205</td>\n",
       "      <td>0.408205</td>\n",
       "      <td>0.0</td>\n",
       "      <td>0.0</td>\n",
       "      <td>0.0</td>\n",
       "      <td>1.661264</td>\n",
       "    </tr>\n",
       "    <tr>\n",
       "      <th>3</th>\n",
       "      <td>2009-11-30</td>\n",
       "      <td>1.096693</td>\n",
       "      <td>1.003557</td>\n",
       "      <td>1.756438</td>\n",
       "      <td>1.096693</td>\n",
       "      <td>1.096693</td>\n",
       "      <td>0.289924</td>\n",
       "      <td>0.289924</td>\n",
       "      <td>0.289924</td>\n",
       "      <td>-0.114240</td>\n",
       "      <td>-0.114240</td>\n",
       "      <td>-0.114240</td>\n",
       "      <td>0.404164</td>\n",
       "      <td>0.404164</td>\n",
       "      <td>0.404164</td>\n",
       "      <td>0.0</td>\n",
       "      <td>0.0</td>\n",
       "      <td>0.0</td>\n",
       "      <td>1.386616</td>\n",
       "    </tr>\n",
       "    <tr>\n",
       "      <th>4</th>\n",
       "      <td>2009-12-01</td>\n",
       "      <td>1.096769</td>\n",
       "      <td>1.073162</td>\n",
       "      <td>1.868349</td>\n",
       "      <td>1.096769</td>\n",
       "      <td>1.096769</td>\n",
       "      <td>0.377060</td>\n",
       "      <td>0.377060</td>\n",
       "      <td>0.377060</td>\n",
       "      <td>-0.022428</td>\n",
       "      <td>-0.022428</td>\n",
       "      <td>-0.022428</td>\n",
       "      <td>0.399487</td>\n",
       "      <td>0.399487</td>\n",
       "      <td>0.399487</td>\n",
       "      <td>0.0</td>\n",
       "      <td>0.0</td>\n",
       "      <td>0.0</td>\n",
       "      <td>1.473829</td>\n",
       "    </tr>\n",
       "  </tbody>\n",
       "</table>\n",
       "</div>"
      ],
      "text/plain": [
       "          ds     trend  yhat_lower  yhat_upper  trend_lower  trend_upper  \\\n",
       "0 2009-11-27  1.096464    1.074250    1.870167     1.096464     1.096464   \n",
       "1 2009-11-28  1.096540    1.303821    2.075647     1.096540     1.096540   \n",
       "2 2009-11-29  1.096617    1.276540    2.049206     1.096617     1.096617   \n",
       "3 2009-11-30  1.096693    1.003557    1.756438     1.096693     1.096693   \n",
       "4 2009-12-01  1.096769    1.073162    1.868349     1.096769     1.096769   \n",
       "\n",
       "   additive_terms  additive_terms_lower  additive_terms_upper    weekly  \\\n",
       "0        0.366965              0.366965              0.366965 -0.046197   \n",
       "1        0.593999              0.593999              0.593999  0.182696   \n",
       "2        0.564647              0.564647              0.564647  0.156443   \n",
       "3        0.289924              0.289924              0.289924 -0.114240   \n",
       "4        0.377060              0.377060              0.377060 -0.022428   \n",
       "\n",
       "   weekly_lower  weekly_upper    yearly  yearly_lower  yearly_upper  \\\n",
       "0     -0.046197     -0.046197  0.413162      0.413162      0.413162   \n",
       "1      0.182696      0.182696  0.411303      0.411303      0.411303   \n",
       "2      0.156443      0.156443  0.408205      0.408205      0.408205   \n",
       "3     -0.114240     -0.114240  0.404164      0.404164      0.404164   \n",
       "4     -0.022428     -0.022428  0.399487      0.399487      0.399487   \n",
       "\n",
       "   multiplicative_terms  multiplicative_terms_lower  \\\n",
       "0                   0.0                         0.0   \n",
       "1                   0.0                         0.0   \n",
       "2                   0.0                         0.0   \n",
       "3                   0.0                         0.0   \n",
       "4                   0.0                         0.0   \n",
       "\n",
       "   multiplicative_terms_upper      yhat  \n",
       "0                         0.0  1.463429  \n",
       "1                         0.0  1.690539  \n",
       "2                         0.0  1.661264  \n",
       "3                         0.0  1.386616  \n",
       "4                         0.0  1.473829  "
      ]
     },
     "execution_count": 23,
     "metadata": {},
     "output_type": "execute_result"
    }
   ],
   "source": [
    "model = Prophet()\n",
    "model.fit(x_train)\n",
    "\n",
    "forecast = model.predict(x_test) \n",
    "forecast.head()\n",
    "#yhat is the prediction while yhat_lower and yhat_upper are the upper and lower boundaries\n",
    "\n",
    "\n"
   ]
  },
  {
   "cell_type": "code",
   "execution_count": 27,
   "metadata": {},
   "outputs": [
    {
     "data": {
      "text/plain": [
       "31.82840544558516"
      ]
     },
     "execution_count": 27,
     "metadata": {},
     "output_type": "execute_result"
    }
   ],
   "source": [
    "import numpy as np\n",
    "y_true = x_test['y']\n",
    "y_pred = forecast['trend']\n",
    "np.mean(np.abs((y_true - y_pred) / y_true)) * 100"
   ]
  },
  {
   "cell_type": "code",
   "execution_count": 22,
   "metadata": {},
   "outputs": [
    {
     "data": {
      "text/html": [
       "<div>\n",
       "<style scoped>\n",
       "    .dataframe tbody tr th:only-of-type {\n",
       "        vertical-align: middle;\n",
       "    }\n",
       "\n",
       "    .dataframe tbody tr th {\n",
       "        vertical-align: top;\n",
       "    }\n",
       "\n",
       "    .dataframe thead th {\n",
       "        text-align: right;\n",
       "    }\n",
       "</style>\n",
       "<table border=\"1\" class=\"dataframe\">\n",
       "  <thead>\n",
       "    <tr style=\"text-align: right;\">\n",
       "      <th></th>\n",
       "      <th>ds</th>\n",
       "      <th>y</th>\n",
       "    </tr>\n",
       "  </thead>\n",
       "  <tbody>\n",
       "    <tr>\n",
       "      <th>0</th>\n",
       "      <td>2009-11-27</td>\n",
       "      <td>0.958351</td>\n",
       "    </tr>\n",
       "    <tr>\n",
       "      <th>1</th>\n",
       "      <td>2009-11-28</td>\n",
       "      <td>1.290937</td>\n",
       "    </tr>\n",
       "    <tr>\n",
       "      <th>2</th>\n",
       "      <td>2009-11-29</td>\n",
       "      <td>1.146501</td>\n",
       "    </tr>\n",
       "    <tr>\n",
       "      <th>3</th>\n",
       "      <td>2009-11-30</td>\n",
       "      <td>1.211937</td>\n",
       "    </tr>\n",
       "    <tr>\n",
       "      <th>4</th>\n",
       "      <td>2009-12-01</td>\n",
       "      <td>1.219707</td>\n",
       "    </tr>\n",
       "    <tr>\n",
       "      <th>...</th>\n",
       "      <td>...</td>\n",
       "      <td>...</td>\n",
       "    </tr>\n",
       "    <tr>\n",
       "      <th>360</th>\n",
       "      <td>2010-11-22</td>\n",
       "      <td>1.417733</td>\n",
       "    </tr>\n",
       "    <tr>\n",
       "      <th>361</th>\n",
       "      <td>2010-11-23</td>\n",
       "      <td>1.095511</td>\n",
       "    </tr>\n",
       "    <tr>\n",
       "      <th>362</th>\n",
       "      <td>2010-11-24</td>\n",
       "      <td>1.247394</td>\n",
       "    </tr>\n",
       "    <tr>\n",
       "      <th>363</th>\n",
       "      <td>2010-11-25</td>\n",
       "      <td>0.993864</td>\n",
       "    </tr>\n",
       "    <tr>\n",
       "      <th>364</th>\n",
       "      <td>2010-11-26</td>\n",
       "      <td>1.178230</td>\n",
       "    </tr>\n",
       "  </tbody>\n",
       "</table>\n",
       "<p>365 rows × 2 columns</p>\n",
       "</div>"
      ],
      "text/plain": [
       "            ds         y\n",
       "0   2009-11-27  0.958351\n",
       "1   2009-11-28  1.290937\n",
       "2   2009-11-29  1.146501\n",
       "3   2009-11-30  1.211937\n",
       "4   2009-12-01  1.219707\n",
       "..         ...       ...\n",
       "360 2010-11-22  1.417733\n",
       "361 2010-11-23  1.095511\n",
       "362 2010-11-24  1.247394\n",
       "363 2010-11-25  0.993864\n",
       "364 2010-11-26  1.178230\n",
       "\n",
       "[365 rows x 2 columns]"
      ]
     },
     "execution_count": 22,
     "metadata": {},
     "output_type": "execute_result"
    }
   ],
   "source": [
    "x_test"
   ]
  },
  {
   "cell_type": "code",
   "execution_count": 26,
   "metadata": {},
   "outputs": [
    {
     "data": {
      "text/plain": [
       "0      0.958351\n",
       "1      1.290937\n",
       "2      1.146501\n",
       "3      1.211937\n",
       "4      1.219707\n",
       "         ...   \n",
       "360    1.417733\n",
       "361    1.095511\n",
       "362    1.247394\n",
       "363    0.993864\n",
       "364    1.178230\n",
       "Name: y, Length: 365, dtype: float64"
      ]
     },
     "execution_count": 26,
     "metadata": {},
     "output_type": "execute_result"
    }
   ],
   "source": [
    "x_test['y']"
   ]
  },
  {
   "cell_type": "code",
   "execution_count": null,
   "metadata": {},
   "outputs": [],
   "source": []
  }
 ],
 "metadata": {
  "kernelspec": {
   "display_name": "Python 3",
   "language": "python",
   "name": "python3"
  },
  "language_info": {
   "codemirror_mode": {
    "name": "ipython",
    "version": 3
   },
   "file_extension": ".py",
   "mimetype": "text/x-python",
   "name": "python",
   "nbconvert_exporter": "python",
   "pygments_lexer": "ipython3",
   "version": "3.7.8"
  }
 },
 "nbformat": 4,
 "nbformat_minor": 4
}
