{
 "cells": [
  {
   "cell_type": "code",
   "execution_count": 152,
   "metadata": {},
   "outputs": [],
   "source": [
    "import pandas as pd\n",
    "import numpy as np\n",
    "from sklearn.preprocessing import MinMaxScaler\n",
    "from sklearn.model_selection import train_test_split"
   ]
  },
  {
   "cell_type": "code",
   "execution_count": 153,
   "metadata": {},
   "outputs": [],
   "source": [
    "def get_metrics(actual, prediction, decimal_place):\n",
    "  from sklearn import metrics\n",
    "  import numpy as np\n",
    "  print ('mae=',  metrics.mean_absolute_error(actual, prediction).round(decimal_place) )\n",
    "  print('r_squared =', metrics.r2_score(actual, prediction).round(decimal_place)  )\n",
    "  print ('mse =', metrics.mean_squared_error(actual, prediction).round(decimal_place) )\n",
    "  print ('rss =',  np.sum(np.square(actual - prediction)).round(decimal_place))\n",
    "  print ('rmse =', np.sqrt(metrics.mean_squared_error(actual, prediction)).round(decimal_place) )\n",
    "  return"
   ]
  },
  {
   "cell_type": "code",
   "execution_count": 164,
   "metadata": {},
   "outputs": [],
   "source": [
    "df = pd.read_csv('https://archive.ics.uci.edu/ml/machine-learning-databases/00374/energydata_complete.csv')\n",
    "df_energy = df.drop(columns = ['date', 'lights'])\n",
    "\n",
    "scaler = MinMaxScaler()\n",
    "df_energynorm = pd.DataFrame(scaler.fit_transform(df_energy),columns=df_energy.columns)\n",
    "\n",
    "target_appliance = df_energynorm ['Appliances']\n",
    "\n",
    "\n",
    "features = df_energynorm.iloc[:,1:25]\n",
    "\n",
    "x_train, x_test, y_train, y_test = train_test_split(features, target_appliance, test_size=0.3, random_state=42)\n"
   ]
  },
  {
   "cell_type": "code",
   "execution_count": 155,
   "metadata": {},
   "outputs": [
    {
     "name": "stdout",
     "output_type": "stream",
     "text": [
      "mae= 0.082\n",
      "r_squared = 0.643\n",
      "mse = 0.011\n",
      "rss = 66.116\n",
      "rmse = 0.106\n"
     ]
    }
   ],
   "source": [
    "# Question 12 to 16\n",
    "# T6 and T3 regression\n",
    "from sklearn import linear_model\n",
    "target_T6 = df_energynorm ['T6']\n",
    "\n",
    "feature_T2 = df_energynorm ['T2']\n",
    "feature_T2 = feature_T2.values.reshape(-1,1)\n",
    "\n",
    "x_train2, x_test2, y_train2, y_test2 = train_test_split(feature_T2, target_T6, test_size=0.3, random_state=42)\n",
    "\n",
    "simple_regress = linear_model.LinearRegression()\n",
    "\n",
    "simple_regress.fit(x_train2, y_train2)\n",
    "\n",
    "#obtain predictions\n",
    "predicted_values2 = simple_regress.predict(x_test2)\n",
    "\n",
    "get_metrics (y_test2, predicted_values2, 3)"
   ]
  },
  {
   "cell_type": "code",
   "execution_count": 169,
   "metadata": {},
   "outputs": [
    {
     "name": "stdout",
     "output_type": "stream",
     "text": [
      "mae= 0.05\n",
      "r_squared = 0.149\n",
      "mse = 0.008\n",
      "rss = 45.331\n",
      "rmse = 0.087\n",
      "max_weight at: RH_1\n",
      "min_weight at: RH_2\n",
      "[-0.0033419   0.55350127 -0.23605511 -0.456587    0.29057102  0.09598818\n",
      "  0.02906521  0.02643013 -0.01572451  0.01594397  0.23636817  0.03809203\n",
      "  0.01037028 -0.04456483  0.10194447 -0.15757677 -0.1898655  -0.03987924\n",
      " -0.32171788  0.00685265 -0.07756342  0.02919226  0.01228877  0.11764113]\n",
      "\n"
     ]
    }
   ],
   "source": [
    "# Question 17\n",
    "from sklearn import linear_model\n",
    "multi_regress = linear_model.LinearRegression()\n",
    "\n",
    "multi_regress.fit(x_train, y_train)\n",
    "\n",
    "#obtain predictions\n",
    "predicted_values = multi_regress.predict(x_test)\n",
    "\n",
    "\n",
    "get_metrics (y_test, predicted_values, 3)\n",
    "\n",
    "ind_max = np.argmax(multi_regress.coef_)\n",
    "ind_min = np.argmin(multi_regress.coef_)\n",
    "print('max_weight at:', features.columns.values[ind_max])\n",
    "print('min_weight at:', features.columns.values[ind_min])\n",
    "print(multi_regress.coef_)\n",
    "#get_metrics(y_test, predicted_values, 2)\n",
    "print()"
   ]
  },
  {
   "cell_type": "code",
   "execution_count": 156,
   "metadata": {},
   "outputs": [
    {
     "name": "stdout",
     "output_type": "stream",
     "text": [
      "mae= 0.05\n",
      "r_squared = 0.149\n",
      "mse = 0.008\n",
      "rss = 45.352\n",
      "rmse = 0.088\n"
     ]
    }
   ],
   "source": [
    "# Question 18\n",
    "from sklearn.linear_model import Ridge\n",
    "ridge_regress = Ridge(alpha=0.4)\n",
    "ridge_regress.fit(x_train, y_train)\n",
    "\n",
    "predicted_value_ridge = ridge_regress.predict(x_test)\n",
    "\n",
    "get_metrics (y_test, predicted_value_ridge, 3)"
   ]
  },
  {
   "cell_type": "code",
   "execution_count": 159,
   "metadata": {},
   "outputs": [
    {
     "name": "stdout",
     "output_type": "stream",
     "text": [
      "4\n"
     ]
    }
   ],
   "source": [
    "#Question 19\n",
    "from sklearn.linear_model import Lasso\n",
    "lasso_regress = Lasso(alpha=0.001)\n",
    "lasso_regress.fit(x_train, y_train)\n",
    "\n",
    "predicted_value_lasso = lasso_regress.predict(x_test)\n",
    "\n",
    "print (np.count_nonzero(lasso_regress.coef_))\n",
    "\n"
   ]
  },
  {
   "cell_type": "code",
   "execution_count": 160,
   "metadata": {
    "scrolled": true
   },
   "outputs": [
    {
     "name": "stdout",
     "output_type": "stream",
     "text": [
      "mae= 0.055\n",
      "r_squared = 0.027\n",
      "mse = 0.009\n",
      "rss = 51.853\n",
      "rmse = 0.094\n"
     ]
    }
   ],
   "source": [
    "# Question 20\n",
    "get_metrics (y_test, predicted_value_lasso, 3)\n"
   ]
  },
  {
   "cell_type": "code",
   "execution_count": 167,
   "metadata": {},
   "outputs": [
    {
     "name": "stdout",
     "output_type": "stream",
     "text": [
      "T2\n"
     ]
    }
   ],
   "source": [
    "print (features.columns.values[2])"
   ]
  },
  {
   "cell_type": "code",
   "execution_count": null,
   "metadata": {},
   "outputs": [],
   "source": []
  }
 ],
 "metadata": {
  "kernelspec": {
   "display_name": "Python 3",
   "language": "python",
   "name": "python3"
  },
  "language_info": {
   "codemirror_mode": {
    "name": "ipython",
    "version": 3
   },
   "file_extension": ".py",
   "mimetype": "text/x-python",
   "name": "python",
   "nbconvert_exporter": "python",
   "pygments_lexer": "ipython3",
   "version": "3.7.6"
  }
 },
 "nbformat": 4,
 "nbformat_minor": 4
}
